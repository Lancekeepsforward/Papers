{
 "cells": [
  {
   "cell_type": "code",
   "execution_count": 5,
   "metadata": {},
   "outputs": [
    {
     "data": {
      "text/plain": [
       "torch.Size([1440, 1072, 3])"
      ]
     },
     "execution_count": 5,
     "metadata": {},
     "output_type": "execute_result"
    }
   ],
   "source": [
    "import cv2\n",
    "import torch\n",
    "\n",
    "pic = cv2.imread(\"output.jpg\", cv2.IMREAD_COLOR)\n",
    "cv2.imshow(\"pic\", pic)\n",
    "cv2.waitKey(0)\n",
    "cv2.destroyAllWindows()\n",
    "torch.tensor(pic).shape\n"
   ]
  },
  {
   "cell_type": "code",
   "execution_count": 15,
   "metadata": {},
   "outputs": [],
   "source": [
    "pic_shape = torch.tensor(pic).shape\n",
    "grey = cv2.threshold(pic, 1, 255, cv2.THRESH_BINARY)[1]\n",
    "cv2.imshow('grey', grey)\n",
    "cv2.waitKey(0)\n",
    "cv2.destroyAllWindows()"
   ]
  },
  {
   "cell_type": "code",
   "execution_count": 28,
   "metadata": {},
   "outputs": [],
   "source": [
    "for i in range(3):\n",
    "  cv2.imshow(f\"pic-{i}\", cv2.split(pic)[i])\n",
    "  cv2.waitKey(0)\n",
    "  cv2.destroyAllWindows()"
   ]
  },
  {
   "cell_type": "code",
   "execution_count": 41,
   "metadata": {},
   "outputs": [
    {
     "name": "stdout",
     "output_type": "stream",
     "text": [
      "(1440, 1072)\n"
     ]
    }
   ],
   "source": [
    "import numpy as np\n",
    "new_ = np.stack(cv2.split(pic)).mean(axis=0)\n",
    "new_ = cv2.threshold(new_, 100, 200, cv2.THRESH_BINARY)[1]\n",
    "print(new_.shape)\n",
    "cv2.imshow(f\"pic\", new_)\n",
    "cv2.waitKey(0)\n",
    "cv2.destroyAllWindows()"
   ]
  },
  {
   "cell_type": "code",
   "execution_count": 45,
   "metadata": {},
   "outputs": [
    {
     "name": "stdout",
     "output_type": "stream",
     "text": [
      "1440 1072\n",
      "1640 1272\n",
      "100 100\n"
     ]
    }
   ],
   "source": [
    "import cv2\n",
    "import numpy as np\n",
    "\n",
    "# 读取原图\n",
    "img = pic\n",
    "\n",
    "# 获取原图尺寸\n",
    "h, w = img.shape[:2]\n",
    "print(h,w)\n",
    "# 设定新背景的大小（比原图大）\n",
    "bg_h, bg_w = h + 200, w + 200  # 比原图大 200px\n",
    "print(bg_h,bg_w)\n",
    "\n",
    "# 创建一个白色背景（可以改成黑色 `np.zeros`）\n",
    "background = np.ones((bg_h, bg_w, 3), dtype=np.uint8) * 255\n",
    "\n",
    "# 计算原图放置的位置（中心对齐）\n",
    "x_offset = (bg_w - w) // 2\n",
    "y_offset = (bg_h - h) // 2\n",
    "print(x_offset,y_offset)\n",
    "\n",
    "# 把原图贴到背景上\n",
    "background[y_offset:y_offset+h, x_offset:x_offset+w] = img\n",
    "\n",
    "# 显示结果\n",
    "# cv2.imshow('Padded Image', background)\n",
    "# cv2.waitKey(0)\n",
    "# cv2.destroyAllWindows()"
   ]
  },
  {
   "cell_type": "code",
   "execution_count": 119,
   "metadata": {},
   "outputs": [
    {
     "name": "stdout",
     "output_type": "stream",
     "text": [
      "255 0\n",
      "(1440, 1072, 3)\n",
      "255 0\n",
      "(1440, 1072, 3)\n",
      "255 0\n",
      "(1440, 1072, 3)\n",
      "255 0\n",
      "(1440, 1072, 3)\n",
      "255 0\n",
      "(1440, 1072, 3)\n",
      "255 0\n",
      "(1440, 1072, 3)\n",
      "255 0\n",
      "(1440, 1072, 3)\n",
      "255 0\n",
      "(1440, 1072, 3)\n",
      "255 0\n",
      "(1440, 1072, 3)\n"
     ]
    }
   ],
   "source": [
    "for i in range(1, 10):\n",
    "  target = (np.random.normal(0, i * 50, size=pic.shape) + pic)\n",
    "  target = np.clip(target, 0, 255).astype(np.uint8)\n",
    "  print(np.max(target), np.min(target))\n",
    "  print(target.shape)\n",
    "  cv2.imshow('Padded Image', target)\n",
    "  cv2.waitKey(0)\n",
    "  cv2.destroyAllWindows()"
   ]
  },
  {
   "cell_type": "code",
   "execution_count": null,
   "metadata": {},
   "outputs": [
    {
     "ename": "KeyboardInterrupt",
     "evalue": "",
     "output_type": "error",
     "traceback": [
      "\u001b[0;31m---------------------------------------------------------------------------\u001b[0m",
      "\u001b[0;31mKeyboardInterrupt\u001b[0m                         Traceback (most recent call last)",
      "Cell \u001b[0;32mIn[163], line 17\u001b[0m\n\u001b[1;32m     15\u001b[0m alpha_bar_t \u001b[38;5;241m=\u001b[39m alpha_bars[t]\n\u001b[1;32m     16\u001b[0m \u001b[38;5;66;03m# 生成噪声\u001b[39;00m\n\u001b[0;32m---> 17\u001b[0m noise \u001b[38;5;241m=\u001b[39m \u001b[43mnp\u001b[49m\u001b[38;5;241;43m.\u001b[39;49m\u001b[43mrandom\u001b[49m\u001b[38;5;241;43m.\u001b[39;49m\u001b[43mnormal\u001b[49m\u001b[43m(\u001b[49m\u001b[38;5;241;43m0\u001b[39;49m\u001b[43m,\u001b[49m\u001b[43m \u001b[49m\u001b[38;5;241;43m255\u001b[39;49m\u001b[43m,\u001b[49m\u001b[43m \u001b[49m\u001b[43msize\u001b[49m\u001b[38;5;241;43m=\u001b[39;49m\u001b[43mpic\u001b[49m\u001b[38;5;241;43m.\u001b[39;49m\u001b[43mshape\u001b[49m\u001b[43m)\u001b[49m  \u001b[38;5;66;03m# 用 255 作为噪声范围\u001b[39;00m\n\u001b[1;32m     18\u001b[0m \u001b[38;5;66;03m# 正确计算扩散图像\u001b[39;00m\n\u001b[1;32m     19\u001b[0m target \u001b[38;5;241m=\u001b[39m np\u001b[38;5;241m.\u001b[39msqrt(alpha_bar_t) \u001b[38;5;241m*\u001b[39m pic \u001b[38;5;241m+\u001b[39m np\u001b[38;5;241m.\u001b[39msqrt(\u001b[38;5;241m1\u001b[39m \u001b[38;5;241m-\u001b[39m alpha_bar_t) \u001b[38;5;241m*\u001b[39m noise\n",
      "\u001b[0;31mKeyboardInterrupt\u001b[0m: "
     ]
    }
   ],
   "source": [
    "import numpy as np\n",
    "import cv2\n",
    "import time\n",
    "\n",
    "# 生成测试图片\n",
    "pic = cv2.imread(\"output.jpg\")\n",
    "# 定义 betas 和 alphas\n",
    "betas = np.linspace(1e-4, 2 * 1e-2, 1000)\n",
    "alphas = 1 - betas\n",
    "alpha_bars = np.cumprod(alphas)  # 计算 alpha_bar_t = 累乘所有 alpha\n",
    "cv2.namedWindow(\"DDPM Forward Process\", cv2.WINDOW_NORMAL)\n",
    "for t in range(len(alpha_bars)):\n",
    "    alpha_bar_t = alpha_bars[t]\n",
    "    # 生成噪声\n",
    "    noise = np.random.normal(0, 255, size=pic.shape)  # 用 255 作为噪声范围\n",
    "    # 正确计算扩散图像\n",
    "    target = np.sqrt(alpha_bar_t) * pic + np.sqrt(1 - alpha_bar_t) * noise\n",
    "    # 归一化并转换为 uint8\n",
    "    target = np.clip(target, 0, 255).astype(np.uint8)\n",
    "    # 获取原图尺寸\n",
    "    h, w = target.shape[:2]\n",
    "    c = max(h, w)\n",
    "    # 设定新背景的大小（比原图大）\n",
    "    bg_h, bg_w = c, c  # 比原图大 200px\n",
    "    # 创建一个白色背景（可以改成黑色 `np.zeros`）\n",
    "    background = np.ones((bg_h, bg_w, 3), dtype=np.uint8) * 255\n",
    "    # 计算原图放置的位置（中心对齐）\n",
    "    x_offset = (bg_w - w) // 2\n",
    "    y_offset = (bg_h - h) // 2\n",
    "    h_new = min(h, c)\n",
    "    w_new = min(w, c) \n",
    "    background[y_offset:y_offset+h_new, x_offset:x_offset+w_new] = target[:h_new, :w_new]\n",
    "    # 显示图像\n",
    "    cv2.imshow(\"DDPM Forward Process\", background)\n",
    "    cv2.waitKey(1)\n",
    "    if t == 0:\n",
    "        time.sleep(2)\n",
    "\n",
    "cv2.destroyAllWindows()"
   ]
  },
  {
   "cell_type": "code",
   "execution_count": 151,
   "metadata": {},
   "outputs": [
    {
     "data": {
      "text/plain": [
       "1440"
      ]
     },
     "execution_count": 151,
     "metadata": {},
     "output_type": "execute_result"
    }
   ],
   "source": [
    "max(target.shape)"
   ]
  },
  {
   "cell_type": "code",
   "execution_count": 161,
   "metadata": {},
   "outputs": [
    {
     "data": {
      "text/plain": [
       "array([[[  4,  27,  35],\n",
       "        [ 13,  36,  44],\n",
       "        [ 31,  52,  60],\n",
       "        ...,\n",
       "        [104,  70,  47],\n",
       "        [152, 119,  99],\n",
       "        [153, 120, 101]],\n",
       "\n",
       "       [[ 14,  37,  45],\n",
       "        [  9,  32,  40],\n",
       "        [ 24,  45,  53],\n",
       "        ...,\n",
       "        [119,  85,  62],\n",
       "        [155, 122, 102],\n",
       "        [163, 130, 111]],\n",
       "\n",
       "       [[ 27,  48,  56],\n",
       "        [ 23,  44,  52],\n",
       "        [ 42,  61,  69],\n",
       "        ...,\n",
       "        [137, 103,  80],\n",
       "        [136, 103,  83],\n",
       "        [137, 106,  85]],\n",
       "\n",
       "       ...,\n",
       "\n",
       "       [[149, 186, 200],\n",
       "        [168, 205, 219],\n",
       "        [156, 194, 206],\n",
       "        ...,\n",
       "        [ 64,  87,  95],\n",
       "        [ 59,  82,  90],\n",
       "        [ 54,  77,  85]],\n",
       "\n",
       "       [[147, 182, 196],\n",
       "        [152, 187, 201],\n",
       "        [139, 177, 189],\n",
       "        ...,\n",
       "        [ 56,  79,  87],\n",
       "        [ 49,  72,  80],\n",
       "        [ 41,  64,  72]],\n",
       "\n",
       "       [[128, 163, 177],\n",
       "        [130, 165, 179],\n",
       "        [111, 149, 161],\n",
       "        ...,\n",
       "        [ 46,  69,  77],\n",
       "        [ 38,  61,  69],\n",
       "        [ 35,  58,  66]]], dtype=uint8)"
      ]
     },
     "execution_count": 161,
     "metadata": {},
     "output_type": "execute_result"
    }
   ],
   "source": [
    "pic"
   ]
  }
 ],
 "metadata": {
  "kernelspec": {
   "display_name": "Python 3",
   "language": "python",
   "name": "python3"
  },
  "language_info": {
   "codemirror_mode": {
    "name": "ipython",
    "version": 3
   },
   "file_extension": ".py",
   "mimetype": "text/x-python",
   "name": "python",
   "nbconvert_exporter": "python",
   "pygments_lexer": "ipython3",
   "version": "3.11.11"
  }
 },
 "nbformat": 4,
 "nbformat_minor": 2
}
